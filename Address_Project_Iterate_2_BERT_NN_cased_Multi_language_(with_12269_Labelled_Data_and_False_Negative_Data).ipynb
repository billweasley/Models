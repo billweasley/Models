{
  "nbformat": 4,
  "nbformat_minor": 0,
  "metadata": {
    "colab": {
      "name": "Address Project - Iterate 2 - BERT NN cased Multi-language (with 12269 Labelled Data and False Negative Data)",
      "provenance": [],
      "collapsed_sections": []
    },
    "kernelspec": {
      "name": "python3",
      "display_name": "Python 3"
    },
    "accelerator": "GPU"
  },
  "cells": [
    {
      "cell_type": "code",
      "metadata": {
        "id": "FLr0YSa6UssM",
        "colab": {
          "base_uri": "https://localhost:8080/",
          "height": 34
        },
        "outputId": "0c94e75a-8363-4ce2-90ea-8e86c457617f"
      },
      "source": [
        "from google.colab import drive\n",
        "drive.mount('/content/drive')"
      ],
      "execution_count": null,
      "outputs": [
        {
          "output_type": "stream",
          "text": [
            "Mounted at /content/drive\n"
          ],
          "name": "stdout"
        }
      ]
    },
    {
      "cell_type": "code",
      "metadata": {
        "id": "r7IaWyzpTre2",
        "colab": {
          "base_uri": "https://localhost:8080/",
          "height": 507
        },
        "outputId": "a60806f0-81c2-4169-f024-dc2011bb454f"
      },
      "source": [
        "import os\n",
        "import numpy as np\n",
        "!pip install bert-tensorflow\n",
        "from tensorflow import keras\n",
        "import tensorflow_hub as hub\n",
        "!pip install bert-for-tf2 # Just for tokenization, do not use it for model layer\n",
        "from bert import bert_tokenization"
      ],
      "execution_count": null,
      "outputs": [
        {
          "output_type": "stream",
          "text": [
            "Collecting bert-tensorflow\n",
            "\u001b[?25l  Downloading https://files.pythonhosted.org/packages/20/16/0f9376af49c6adcfbaf2470a8f500105a74dd803aa54ac0110af445837b5/bert_tensorflow-1.0.4-py2.py3-none-any.whl (64kB)\n",
            "\r\u001b[K     |█████                           | 10kB 12.9MB/s eta 0:00:01\r\u001b[K     |██████████▏                     | 20kB 1.8MB/s eta 0:00:01\r\u001b[K     |███████████████▎                | 30kB 2.3MB/s eta 0:00:01\r\u001b[K     |████████████████████▍           | 40kB 2.6MB/s eta 0:00:01\r\u001b[K     |█████████████████████████▍      | 51kB 2.0MB/s eta 0:00:01\r\u001b[K     |██████████████████████████████▌ | 61kB 2.3MB/s eta 0:00:01\r\u001b[K     |████████████████████████████████| 71kB 2.0MB/s \n",
            "\u001b[?25hRequirement already satisfied: six in /usr/local/lib/python3.6/dist-packages (from bert-tensorflow) (1.15.0)\n",
            "Installing collected packages: bert-tensorflow\n",
            "Successfully installed bert-tensorflow-1.0.4\n",
            "Collecting bert-for-tf2\n",
            "\u001b[?25l  Downloading https://files.pythonhosted.org/packages/af/c1/015648a2186b25c6de79d15bec40d3d946fcf1dd5067d1c1b28009506486/bert-for-tf2-0.14.6.tar.gz (40kB)\n",
            "\u001b[K     |████████████████████████████████| 40kB 1.7MB/s \n",
            "\u001b[?25hCollecting py-params>=0.9.6\n",
            "  Downloading https://files.pythonhosted.org/packages/a4/bf/c1c70d5315a8677310ea10a41cfc41c5970d9b37c31f9c90d4ab98021fd1/py-params-0.9.7.tar.gz\n",
            "Collecting params-flow>=0.8.0\n",
            "  Downloading https://files.pythonhosted.org/packages/a9/95/ff49f5ebd501f142a6f0aaf42bcfd1c192dc54909d1d9eb84ab031d46056/params-flow-0.8.2.tar.gz\n",
            "Requirement already satisfied: numpy in /usr/local/lib/python3.6/dist-packages (from params-flow>=0.8.0->bert-for-tf2) (1.18.5)\n",
            "Requirement already satisfied: tqdm in /usr/local/lib/python3.6/dist-packages (from params-flow>=0.8.0->bert-for-tf2) (4.41.1)\n",
            "Building wheels for collected packages: bert-for-tf2, py-params, params-flow\n",
            "  Building wheel for bert-for-tf2 (setup.py) ... \u001b[?25l\u001b[?25hdone\n",
            "  Created wheel for bert-for-tf2: filename=bert_for_tf2-0.14.6-cp36-none-any.whl size=30318 sha256=6da8b7bc3c262026c3374e1238ae3ab9550f811ce758bf862ffdcb6635dfb668\n",
            "  Stored in directory: /root/.cache/pip/wheels/07/a0/b4/75b0601ebaa41e517a797fe9cea119c789664c8408f8a74ae9\n",
            "  Building wheel for py-params (setup.py) ... \u001b[?25l\u001b[?25hdone\n",
            "  Created wheel for py-params: filename=py_params-0.9.7-cp36-none-any.whl size=7304 sha256=74d2fc4bcb0b9391369078fcb47b095c9f2e01c5bd955c38fd08055cd5c83824\n",
            "  Stored in directory: /root/.cache/pip/wheels/67/f5/19/b461849a50aefdf4bab47c4756596e82ee2118b8278e5a1980\n",
            "  Building wheel for params-flow (setup.py) ... \u001b[?25l\u001b[?25hdone\n",
            "  Created wheel for params-flow: filename=params_flow-0.8.2-cp36-none-any.whl size=19475 sha256=64393a03b55b9a583d5a0db6e804fa24f280596b1a6db41310853bd42d37944a\n",
            "  Stored in directory: /root/.cache/pip/wheels/08/c8/7f/81c86b9ff2b86e2c477e3914175be03e679e596067dc630c06\n",
            "Successfully built bert-for-tf2 py-params params-flow\n",
            "Installing collected packages: py-params, params-flow, bert-for-tf2\n",
            "Successfully installed bert-for-tf2-0.14.6 params-flow-0.8.2 py-params-0.9.7\n"
          ],
          "name": "stdout"
        }
      ]
    },
    {
      "cell_type": "code",
      "metadata": {
        "id": "EuCPKmGpTCYw"
      },
      "source": [
        "model_base = '/content/drive/My Drive/Address Matching/iter2_bert_model_mixed_golden_and_false_positive_from_iter1_trained'\n",
        "model_name = \"bert_multi_cased_L-12_H-768_A-12\"\n",
        "model_ckpt = os.path.join(model_base, model_name , \"bert_model.ckpt\")\n",
        "max_seq_len = 128"
      ],
      "execution_count": null,
      "outputs": []
    },
    {
      "cell_type": "code",
      "metadata": {
        "id": "gStkn6yhWV4O"
      },
      "source": [
        "input_word_ids = keras.layers.Input(shape=(max_seq_len,), dtype='int32')\n",
        "segment_ids = keras.layers.Input(shape=(max_seq_len,), dtype='int32')\n",
        "input_mask = keras.layers.Input(shape=(max_seq_len,), dtype='int32')\n",
        "\n",
        "bert_layer = hub.KerasLayer(\"https://tfhub.dev/tensorflow/{}/2\".format(model_name), trainable=True)\n",
        "pooled_output, _ = bert_layer([input_word_ids, input_mask, segment_ids])                         \n",
        "output = keras.layers.Dense(1, activation='sigmoid', name='logit')(pooled_output)\n",
        "model = keras.Model(inputs=[input_word_ids,input_mask,segment_ids], outputs=output)\n",
        "model.build(input_shape=(None, max_seq_len))"
      ],
      "execution_count": null,
      "outputs": []
    },
    {
      "cell_type": "code",
      "metadata": {
        "id": "Xd3tYZzra-NN"
      },
      "source": [
        "vocab_file = bert_layer.resolved_object.vocab_file.asset_path.numpy()\n",
        "do_lower_case = bert_layer.resolved_object.do_lower_case.numpy()\n",
        "tokenizer = bert_tokenization.FullTokenizer(vocab_file, do_lower_case)"
      ],
      "execution_count": null,
      "outputs": []
    },
    {
      "cell_type": "code",
      "metadata": {
        "id": "zOAfViVtdEmy"
      },
      "source": [
        "import pandas as pd\n",
        "labeled_data = pd.read_csv('/content/drive/My Drive/Address Matching/labled_data_until_iter1.csv', sep=\"|\")"
      ],
      "execution_count": null,
      "outputs": []
    },
    {
      "cell_type": "code",
      "metadata": {
        "id": "uPvHr4o7dvhP",
        "colab": {
          "base_uri": "https://localhost:8080/",
          "height": 419
        },
        "outputId": "05289241-1bfd-4303-828a-52940da0003a"
      },
      "source": [
        "labeled_data.drop(['Unnamed: 0'], axis = 1)"
      ],
      "execution_count": null,
      "outputs": [
        {
          "output_type": "execute_result",
          "data": {
            "text/html": [
              "<div>\n",
              "<style scoped>\n",
              "    .dataframe tbody tr th:only-of-type {\n",
              "        vertical-align: middle;\n",
              "    }\n",
              "\n",
              "    .dataframe tbody tr th {\n",
              "        vertical-align: top;\n",
              "    }\n",
              "\n",
              "    .dataframe thead th {\n",
              "        text-align: right;\n",
              "    }\n",
              "</style>\n",
              "<table border=\"1\" class=\"dataframe\">\n",
              "  <thead>\n",
              "    <tr style=\"text-align: right;\">\n",
              "      <th></th>\n",
              "      <th>postcode</th>\n",
              "      <th>address_left</th>\n",
              "      <th>address_right</th>\n",
              "      <th>label</th>\n",
              "    </tr>\n",
              "  </thead>\n",
              "  <tbody>\n",
              "    <tr>\n",
              "      <th>0</th>\n",
              "      <td>06 830</td>\n",
              "      <td>591 W.PUTNAM AVENUE,GREENWICH,CONNECTICUT,UNIT...</td>\n",
              "      <td>591 W.PUTNAM AVENUE,GREENWICH,CONNECTICUT</td>\n",
              "      <td>1</td>\n",
              "    </tr>\n",
              "    <tr>\n",
              "      <th>1</th>\n",
              "      <td>06 830</td>\n",
              "      <td>591 W.PUTNAM AVENUE,GREENWICH,CONNECTICUT,UNIT...</td>\n",
              "      <td>591 PUTNAM AVENUE,CONNECTICUT</td>\n",
              "      <td>1</td>\n",
              "    </tr>\n",
              "    <tr>\n",
              "      <th>2</th>\n",
              "      <td>06 830</td>\n",
              "      <td>591 W.PUTNAM AVENUE,GREENWICH,CONNECTICUT</td>\n",
              "      <td>591 PUTNAM AVENUE,CONNECTICUT</td>\n",
              "      <td>1</td>\n",
              "    </tr>\n",
              "    <tr>\n",
              "      <th>3</th>\n",
              "      <td>1</td>\n",
              "      <td>HANOVER MILLS,MANCHESTER</td>\n",
              "      <td>LUDGATE HILL 39,LONDON,UNITED KINGDOM</td>\n",
              "      <td>0</td>\n",
              "    </tr>\n",
              "    <tr>\n",
              "      <th>4</th>\n",
              "      <td>10 003</td>\n",
              "      <td>41 E 11TH STREET,NEW YORK,NEW YORK,UNITED STATES</td>\n",
              "      <td>40 WATER STREET,NEW YORK CITY,NEW YORK,UNITED ...</td>\n",
              "      <td>0</td>\n",
              "    </tr>\n",
              "    <tr>\n",
              "      <th>...</th>\n",
              "      <td>...</td>\n",
              "      <td>...</td>\n",
              "      <td>...</td>\n",
              "      <td>...</td>\n",
              "    </tr>\n",
              "    <tr>\n",
              "      <th>1464</th>\n",
              "      <td>AB12 4QZ</td>\n",
              "      <td>67 ARGYLL PLACE,ABERDEEN</td>\n",
              "      <td>10 ARGYLL PLACE,ABERDEEN,UNITED KINGDOM</td>\n",
              "      <td>0</td>\n",
              "    </tr>\n",
              "    <tr>\n",
              "      <th>1465</th>\n",
              "      <td>AB12 4QZ</td>\n",
              "      <td>51 ARGYLL PLACE,PORTLETHEN,SCOTLAND</td>\n",
              "      <td>10 ARGYLL PLACE,ABERDEEN,UNITED KINGDOM</td>\n",
              "      <td>0</td>\n",
              "    </tr>\n",
              "    <tr>\n",
              "      <th>1466</th>\n",
              "      <td>AB12 4TD</td>\n",
              "      <td>15 FERN PLACE,ABERDEEN,UNITED KINGDOM</td>\n",
              "      <td>27 FERN PLACE,ABERDEEN,UNITED KINGDOM</td>\n",
              "      <td>0</td>\n",
              "    </tr>\n",
              "    <tr>\n",
              "      <th>1467</th>\n",
              "      <td>AB12 4TH</td>\n",
              "      <td>8 HILLSIDE PLACE,ABERDEEN,UNITED KINGDOM</td>\n",
              "      <td>14 HILLSIDE PLACE,ABERDEEN,SCOTLAND</td>\n",
              "      <td>0</td>\n",
              "    </tr>\n",
              "    <tr>\n",
              "      <th>1468</th>\n",
              "      <td>AB12 4TH</td>\n",
              "      <td>8 HILLSIDE PLACE,ABERDEEN,UNITED KINGDOM</td>\n",
              "      <td>12 HILLSIDE PLACE,ABERDEEN,SCOTLAND</td>\n",
              "      <td>0</td>\n",
              "    </tr>\n",
              "  </tbody>\n",
              "</table>\n",
              "<p>1469 rows × 4 columns</p>\n",
              "</div>"
            ],
            "text/plain": [
              "      postcode  ... label\n",
              "0       06 830  ...     1\n",
              "1       06 830  ...     1\n",
              "2       06 830  ...     1\n",
              "3            1  ...     0\n",
              "4       10 003  ...     0\n",
              "...        ...  ...   ...\n",
              "1464  AB12 4QZ  ...     0\n",
              "1465  AB12 4QZ  ...     0\n",
              "1466  AB12 4TD  ...     0\n",
              "1467  AB12 4TH  ...     0\n",
              "1468  AB12 4TH  ...     0\n",
              "\n",
              "[1469 rows x 4 columns]"
            ]
          },
          "metadata": {
            "tags": []
          },
          "execution_count": 8
        }
      ]
    },
    {
      "cell_type": "code",
      "metadata": {
        "id": "uDiCNDJFeAcZ"
      },
      "source": [
        "address_left = labeled_data['address_left'].values + ','+ labeled_data['postcode'].values\n",
        "address_right = labeled_data['address_right'].values + ','+ labeled_data['postcode'].values\n",
        "label = labeled_data['label'].values"
      ],
      "execution_count": null,
      "outputs": []
    },
    {
      "cell_type": "code",
      "metadata": {
        "id": "ocqlEdUpCMF5"
      },
      "source": [
        "iter1_false_negative_samples = pd.read_csv(\"/content/drive/My Drive/Address Matching/false_positive_samples_matching_addresses_from_mark_processed_and_shuffled_with_model_predicted_label.csv\",sep=\"|\")"
      ],
      "execution_count": null,
      "outputs": []
    },
    {
      "cell_type": "code",
      "metadata": {
        "id": "EZHZU-3JCWS2",
        "colab": {
          "base_uri": "https://localhost:8080/",
          "height": 589
        },
        "outputId": "07dae7aa-1403-41cb-9e2e-0cde43baf473"
      },
      "source": [
        "iter1_false_negative_samples[5000:]"
      ],
      "execution_count": null,
      "outputs": [
        {
          "output_type": "execute_result",
          "data": {
            "text/html": [
              "<div>\n",
              "<style scoped>\n",
              "    .dataframe tbody tr th:only-of-type {\n",
              "        vertical-align: middle;\n",
              "    }\n",
              "\n",
              "    .dataframe tbody tr th {\n",
              "        vertical-align: top;\n",
              "    }\n",
              "\n",
              "    .dataframe thead th {\n",
              "        text-align: right;\n",
              "    }\n",
              "</style>\n",
              "<table border=\"1\" class=\"dataframe\">\n",
              "  <thead>\n",
              "    <tr style=\"text-align: right;\">\n",
              "      <th></th>\n",
              "      <th>Unnamed: 0</th>\n",
              "      <th>l_address</th>\n",
              "      <th>r_address</th>\n",
              "      <th>orignal_noisy_label</th>\n",
              "      <th>model_predicted_prob</th>\n",
              "      <th>model_predicted_label</th>\n",
              "    </tr>\n",
              "  </thead>\n",
              "  <tbody>\n",
              "    <tr>\n",
              "      <th>5000</th>\n",
              "      <td>84613</td>\n",
              "      <td>No.16,Zhenxing East Road,Juxian County,Rizhao,...</td>\n",
              "      <td>莒县县城振兴东路16号,日照市, CN, 276500</td>\n",
              "      <td>1</td>\n",
              "      <td>0.173207</td>\n",
              "      <td>0</td>\n",
              "    </tr>\n",
              "    <tr>\n",
              "      <th>5001</th>\n",
              "      <td>68065</td>\n",
              "      <td>经济技术开发区新竹路6号,日照市, CN, 276800</td>\n",
              "      <td>NO.6 XINZHU ROAD, ECONOMIC AND TECHNOLOGICAL D...</td>\n",
              "      <td>1</td>\n",
              "      <td>0.173229</td>\n",
              "      <td>0</td>\n",
              "    </tr>\n",
              "    <tr>\n",
              "      <th>5002</th>\n",
              "      <td>66199</td>\n",
              "      <td>JAEN 2 1º,Sevilla, ES, 41001</td>\n",
              "      <td>TENIENTE CORONEL SEGUI 2 1ª,Sevilla, ES, 41001</td>\n",
              "      <td>1</td>\n",
              "      <td>0.173246</td>\n",
              "      <td>0</td>\n",
              "    </tr>\n",
              "    <tr>\n",
              "      <th>5003</th>\n",
              "      <td>153598</td>\n",
              "      <td>7 Clifford Street,London, GB, W1S2FT</td>\n",
              "      <td>7 CLIFFORD STREET,LONDON, GB, W1S2FT</td>\n",
              "      <td>1</td>\n",
              "      <td>0.173285</td>\n",
              "      <td>0</td>\n",
              "    </tr>\n",
              "    <tr>\n",
              "      <th>5004</th>\n",
              "      <td>227476</td>\n",
              "      <td>江干区市民街200号圣奥中央商务大厦2002室,杭州市, CN, 310000</td>\n",
              "      <td>ROOM 2391,2ND FLOOR,BUILDING 1,NO.104,WULIN NE...</td>\n",
              "      <td>1</td>\n",
              "      <td>0.173356</td>\n",
              "      <td>0</td>\n",
              "    </tr>\n",
              "    <tr>\n",
              "      <th>...</th>\n",
              "      <td>...</td>\n",
              "      <td>...</td>\n",
              "      <td>...</td>\n",
              "      <td>...</td>\n",
              "      <td>...</td>\n",
              "      <td>...</td>\n",
              "    </tr>\n",
              "    <tr>\n",
              "      <th>10395</th>\n",
              "      <td>69325</td>\n",
              "      <td>市中区共青团路25号3904室,济南市, CN, 250012</td>\n",
              "      <td>Room 3904, 25 gongqingtuan road, shizhong dist...</td>\n",
              "      <td>1</td>\n",
              "      <td>0.499638</td>\n",
              "      <td>0</td>\n",
              "    </tr>\n",
              "    <tr>\n",
              "      <th>10396</th>\n",
              "      <td>58591</td>\n",
              "      <td>2, Bld. 13, 3rd Yamskogo Polya Street, Office ...</td>\n",
              "      <td>улица Ямского Поля 3-я, дом 2, корп.13, офис X...</td>\n",
              "      <td>1</td>\n",
              "      <td>0.499675</td>\n",
              "      <td>0</td>\n",
              "    </tr>\n",
              "    <tr>\n",
              "      <th>10397</th>\n",
              "      <td>228376</td>\n",
              "      <td>5470 South Tuckaway Lane,Greenfield, US, 53221</td>\n",
              "      <td>C/O GLENCO PROPERTIES INC, 5470 S TUCKAWAY LN,...</td>\n",
              "      <td>1</td>\n",
              "      <td>0.499690</td>\n",
              "      <td>0</td>\n",
              "    </tr>\n",
              "    <tr>\n",
              "      <th>10398</th>\n",
              "      <td>23357</td>\n",
              "      <td>Gaoke Headoffice No. 1, No. 898 Zhuzhou Rd. Zh...</td>\n",
              "      <td>天元区株洲大道898号高科总部壹号,株洲市, CN, 412007</td>\n",
              "      <td>1</td>\n",
              "      <td>0.499837</td>\n",
              "      <td>0</td>\n",
              "    </tr>\n",
              "    <tr>\n",
              "      <th>10399</th>\n",
              "      <td>232585</td>\n",
              "      <td>1300 Blue Knob Road,Marietta, US, 45750</td>\n",
              "      <td>C/O EVAN O. WETZ, 1300-A BLUE KNOB ROAD,MARIET...</td>\n",
              "      <td>1</td>\n",
              "      <td>0.499955</td>\n",
              "      <td>0</td>\n",
              "    </tr>\n",
              "  </tbody>\n",
              "</table>\n",
              "<p>5400 rows × 6 columns</p>\n",
              "</div>"
            ],
            "text/plain": [
              "       Unnamed: 0  ... model_predicted_label\n",
              "5000        84613  ...                     0\n",
              "5001        68065  ...                     0\n",
              "5002        66199  ...                     0\n",
              "5003       153598  ...                     0\n",
              "5004       227476  ...                     0\n",
              "...           ...  ...                   ...\n",
              "10395       69325  ...                     0\n",
              "10396       58591  ...                     0\n",
              "10397      228376  ...                     0\n",
              "10398       23357  ...                     0\n",
              "10399      232585  ...                     0\n",
              "\n",
              "[5400 rows x 6 columns]"
            ]
          },
          "metadata": {
            "tags": []
          },
          "execution_count": 11
        }
      ]
    },
    {
      "cell_type": "code",
      "metadata": {
        "id": "5WPAmjymC4cb"
      },
      "source": [
        "address_left = np.concatenate([address_left, iter1_false_negative_samples[5000:]['l_address']])\n",
        "address_right = np.concatenate([address_right, iter1_false_negative_samples[5000:]['r_address']])\n",
        "label = np.concatenate([label, [1] * len(iter1_false_negative_samples[5000:])])"
      ],
      "execution_count": null,
      "outputs": []
    },
    {
      "cell_type": "code",
      "metadata": {
        "id": "nCnvL9bxDtNz"
      },
      "source": [
        "address_left = np.concatenate([address_left, iter1_false_negative_samples[5000:]['l_address']])\n",
        "address_right = np.concatenate([address_right, iter1_false_negative_samples[4999: 4999 + len(iter1_false_negative_samples[5000:])]['r_address']])\n",
        "label = np.concatenate([label, [0] * len(iter1_false_negative_samples[5000:])])"
      ],
      "execution_count": null,
      "outputs": []
    },
    {
      "cell_type": "code",
      "metadata": {
        "id": "LV_HQ5zeG-mk",
        "colab": {
          "base_uri": "https://localhost:8080/",
          "height": 34
        },
        "outputId": "c471dc11-e6df-4d74-d636-0558adbc6dc9"
      },
      "source": [
        "len(address_left)"
      ],
      "execution_count": null,
      "outputs": [
        {
          "output_type": "execute_result",
          "data": {
            "text/plain": [
              "12269"
            ]
          },
          "metadata": {
            "tags": []
          },
          "execution_count": 14
        }
      ]
    },
    {
      "cell_type": "code",
      "metadata": {
        "id": "9Jms-Ge3HCmZ",
        "colab": {
          "base_uri": "https://localhost:8080/",
          "height": 34
        },
        "outputId": "d5e741b4-26b3-46d3-8319-25fa6a25da43"
      },
      "source": [
        "len(address_right)"
      ],
      "execution_count": null,
      "outputs": [
        {
          "output_type": "execute_result",
          "data": {
            "text/plain": [
              "12269"
            ]
          },
          "metadata": {
            "tags": []
          },
          "execution_count": 15
        }
      ]
    },
    {
      "cell_type": "code",
      "metadata": {
        "id": "euAnAKkfHOam"
      },
      "source": [
        "shuffle_index = np.random.permutation(len(label))"
      ],
      "execution_count": null,
      "outputs": []
    },
    {
      "cell_type": "code",
      "metadata": {
        "id": "vjuMXZzTHaDX"
      },
      "source": [
        "address_left = address_left[shuffle_index]\n",
        "address_right = address_right[shuffle_index]\n",
        "label = label[shuffle_index]"
      ],
      "execution_count": null,
      "outputs": []
    },
    {
      "cell_type": "code",
      "metadata": {
        "id": "CxxCswaHeVvU"
      },
      "source": [
        "import numpy\n",
        "\n",
        "def _truncate_seq_pair(tokens_a, tokens_b, max_length):\n",
        "  \"\"\"Truncates a sequence pair in place to the maximum length.\"\"\"\n",
        "\n",
        "  # This is a simple heuristic which will always truncate the longer sequence\n",
        "  # one token at a time. This makes more sense than truncating an equal percent\n",
        "  # of tokens from each, since if one sequence is very short then each token\n",
        "  # that's truncated likely contains more information than a longer sequence.\n",
        "  while True:\n",
        "    total_length = len(tokens_a) + len(tokens_b)\n",
        "    if total_length <= max_length:\n",
        "      break\n",
        "    if len(tokens_a) > len(tokens_b):\n",
        "      tokens_a.pop()\n",
        "    else:\n",
        "      tokens_b.pop()\n",
        "\n",
        "def process_data(address_left, address_right, labels, max_seq_len = 128):\n",
        "  assert len(address_left) == len(address_right)\n",
        "  assert len(address_right) == len(labels)\n",
        "  input_id_list = []\n",
        "  input_mask_list = []\n",
        "  segment_id_list = []\n",
        "  for example_index in range(len(address_left)):\n",
        "      the_address_left_tokens = tokenizer.tokenize(address_left[example_index])\n",
        "      the_address_right_tokens = tokenizer.tokenize(address_right[example_index])\n",
        "      _truncate_seq_pair(the_address_left_tokens, the_address_right_tokens, max_seq_len - 3)\n",
        "      tokens = [\"[CLS]\"] + the_address_left_tokens+ [\"[SEP]\"] + the_address_right_tokens + [\"[CLS]\"]\n",
        "      segment_ids = ([0] * (len(the_address_left_tokens) + 2 )) + ([1] * (len(the_address_right_tokens) + 1 ))\n",
        "      input_ids = tokenizer.convert_tokens_to_ids(tokens)\n",
        "      input_mask = [1] * len(input_ids)\n",
        "      padding = [0] * (max_seq_len - len(input_ids))\n",
        "      input_ids += padding\n",
        "      input_mask += padding\n",
        "      segment_ids += padding\n",
        "      assert len(input_ids) == max_seq_len\n",
        "      assert len(input_mask) == max_seq_len\n",
        "      assert len(segment_ids) == max_seq_len\n",
        "      input_id_list.append(input_ids)\n",
        "      input_mask_list.append(input_mask)\n",
        "      segment_id_list.append(segment_ids)\n",
        "  return np.array(input_id_list), np.array(input_mask_list), np.array(segment_id_list)"
      ],
      "execution_count": null,
      "outputs": []
    },
    {
      "cell_type": "code",
      "metadata": {
        "id": "1MrGBOjov0NV"
      },
      "source": [
        "input_ids, input_masks, segment_sids =  process_data(address_left, address_right, label)"
      ],
      "execution_count": null,
      "outputs": []
    },
    {
      "cell_type": "code",
      "metadata": {
        "id": "qlmwABGLcBGi",
        "colab": {
          "base_uri": "https://localhost:8080/",
          "height": 122
        },
        "outputId": "8bd623dd-f377-4a75-8d04-9b77af995a2d"
      },
      "source": [
        "address_left"
      ],
      "execution_count": null,
      "outputs": [
        {
          "output_type": "execute_result",
          "data": {
            "text/plain": [
              "array(['6th Floor, 320 West 46th Street,New York, US, 10036',\n",
              "       'Asia Square Tower 1, 8 Marina View, #30-01,Singapore, SG, 018960',\n",
              "       '5-15-8, Ginza,Chuo-ku Tokyo, JP, 104-0061', ...,\n",
              "       'Gongti Road Zhongyu Plaza,Chaoyang Qu, CN, 100027',\n",
              "       '626 Water Street,Indiana, US, 15701',\n",
              "       '高田三丁目23番23号,東京都 豊島区, JP, 171-0033'], dtype=object)"
            ]
          },
          "metadata": {
            "tags": []
          },
          "execution_count": 20
        }
      ]
    },
    {
      "cell_type": "code",
      "metadata": {
        "id": "bTZWF6GJcEkd",
        "colab": {
          "base_uri": "https://localhost:8080/",
          "height": 122
        },
        "outputId": "9e6e7335-9032-4cae-b374-21a4f306419a"
      },
      "source": [
        "address_right"
      ],
      "execution_count": null,
      "outputs": [
        {
          "output_type": "execute_result",
          "data": {
            "text/plain": [
              "array(['晴海三丁目5番1号,東京都 中央区, JP, 104-0053',\n",
              "       '8 MARINA VIEW #30-01 ASIA SQUARE TOWER 1,SINGAPORE, SG, 018960',\n",
              "       'C/O PATRICK T MCTIGUE, 31600 STEPHENSON HWY,MADISON HEIGHTS, US, 48071',\n",
              "       ..., \"O'HANLON HOUSE, LUTHER STREET,OXFORD, GB, OX1 1UL\",\n",
              "       '西新宿2丁目6番1号,東京都 新宿区, JP, 163-0220',\n",
              "       '3-23-23,Takada,Toshima-ku Tokyo, JP, 171-0033'], dtype=object)"
            ]
          },
          "metadata": {
            "tags": []
          },
          "execution_count": 21
        }
      ]
    },
    {
      "cell_type": "code",
      "metadata": {
        "id": "CGFVRyxtbyze"
      },
      "source": [
        "input_ids_train = input_ids[:10000]\n",
        "segment_id_train = segment_sids[:10000]\n",
        "input_masks_train =  input_masks[:10000]"
      ],
      "execution_count": null,
      "outputs": []
    },
    {
      "cell_type": "code",
      "metadata": {
        "id": "bcVwgcHicUy7"
      },
      "source": [
        "input_ids_valid = input_ids[10000:]\n",
        "segment_id_valid = segment_sids[10000:]\n",
        "input_masks_valid =  input_masks[10000:]"
      ],
      "execution_count": null,
      "outputs": []
    },
    {
      "cell_type": "code",
      "metadata": {
        "id": "RE6COkyqKMdp",
        "colab": {
          "base_uri": "https://localhost:8080/",
          "height": 367
        },
        "outputId": "c1b9beb7-4ff5-4a5d-d091-1bb837448dec"
      },
      "source": [
        "model.compile(optimizer=keras.optimizers.Adam(lr=1e-5, clipnorm=1.), \n",
        "              loss='binary_crossentropy', \n",
        "              metrics=['accuracy'], )\n",
        "model.summary()"
      ],
      "execution_count": null,
      "outputs": [
        {
          "output_type": "stream",
          "text": [
            "Model: \"functional_1\"\n",
            "__________________________________________________________________________________________________\n",
            "Layer (type)                    Output Shape         Param #     Connected to                     \n",
            "==================================================================================================\n",
            "input_1 (InputLayer)            [(None, 128)]        0                                            \n",
            "__________________________________________________________________________________________________\n",
            "input_3 (InputLayer)            [(None, 128)]        0                                            \n",
            "__________________________________________________________________________________________________\n",
            "input_2 (InputLayer)            [(None, 128)]        0                                            \n",
            "__________________________________________________________________________________________________\n",
            "keras_layer (KerasLayer)        [(None, 768), (None, 177853441   input_1[0][0]                    \n",
            "                                                                 input_3[0][0]                    \n",
            "                                                                 input_2[0][0]                    \n",
            "__________________________________________________________________________________________________\n",
            "logit (Dense)                   (None, 1)            769         keras_layer[0][0]                \n",
            "==================================================================================================\n",
            "Total params: 177,854,210\n",
            "Trainable params: 177,854,209\n",
            "Non-trainable params: 1\n",
            "__________________________________________________________________________________________________\n"
          ],
          "name": "stdout"
        }
      ]
    },
    {
      "cell_type": "code",
      "metadata": {
        "id": "20Ug7kO1lqwJ"
      },
      "source": [
        "num_train_epochs = 3\n",
        "train_batch_size = 64"
      ],
      "execution_count": null,
      "outputs": []
    },
    {
      "cell_type": "code",
      "metadata": {
        "id": "2URniANOlnuR"
      },
      "source": [
        "from tensorflow.keras import callbacks\n",
        "from sklearn.metrics import accuracy_score\n",
        "import numpy as np\n",
        "\n",
        "def polynomial_decay(global_step, lr):\n",
        "  return (lr - 0.000001) * (1 - global_step / num_train_epochs) ** 0.9 + 0.000001\n",
        "\n",
        "cb_lists = []\n",
        "\n",
        "lr_scheduler = callbacks.LearningRateScheduler(polynomial_decay, verbose=1)\n",
        "cb_lists.append(lr_scheduler)\n",
        " \n",
        "class LossHistory(keras.callbacks.Callback):\n",
        "    def on_train_begin(self, logs={}):\n",
        "      self.val_accuracy = []\n",
        "      self.highest_accuracy = 0\n",
        "\n",
        "    def on_batch_end(self, batch, logs={}):\n",
        "      if batch % 10 == 0:\n",
        "        predictions = self.model.predict([input_ids_valid, input_masks_valid, segment_id_valid])\n",
        "        val_accuracy = accuracy_score(label[10000:], np.where(predictions>0.5, 1, 0))\n",
        "        self.val_accuracy.append(val_accuracy)\n",
        "        print(\" - val_accuracy: {}\".format(self.val_accuracy[-1]))\n",
        "        if self.highest_accuracy < self.val_accuracy[-1]:\n",
        "          self.highest_accuracy = self.val_accuracy[-1]\n",
        "          print(\"Saving model to {} ...\".format(os.path.join(model_base, model_name , \"iter2_bert_model_multi_lang_address_gold_and_fp_values_from_iter1_fineturned.ckpt\")))\n",
        "          self.model.save(\n",
        "              os.path.join(model_base, model_name, \"iter2_bert_model_multi_lang_address_gold_and_fp_values_from_iter1_fineturned.ckpt\")\n",
        "          )\n",
        "\n",
        "\n",
        "cb_lists.append(LossHistory())"
      ],
      "execution_count": null,
      "outputs": []
    },
    {
      "cell_type": "code",
      "metadata": {
        "id": "jQ_BbqQHJBj2",
        "colab": {
          "base_uri": "https://localhost:8080/",
          "height": 1000
        },
        "outputId": "528fab9b-3092-4bfa-cc3e-1cad98672994"
      },
      "source": [
        "model.fit([input_ids_train, input_masks_train, segment_id_train], label[:10000], \n",
        "          validation_data=([input_ids_valid, input_masks_valid, segment_id_valid], label[10000:]), \n",
        "          epochs = num_train_epochs, callbacks = cb_lists, shuffle = True, batch_size=32) "
      ],
      "execution_count": null,
      "outputs": [
        {
          "output_type": "stream",
          "text": [
            "\n",
            "Epoch 00001: LearningRateScheduler reducing learning rate to 9.999999747378752e-06.\n",
            "Epoch 1/50\n",
            " - val_accuracy: 0.8210665491405905\n",
            "Saving model to /content/drive/My Drive/Address Matching/iter2_bert_model_mixed_golden_and_false_positive_from_iter1_trained/bert_multi_cased_L-12_H-768_A-12/iter2_bert_model_multi_lang_address_gold_and_fp_values_from_iter1_fineturned.ckpt ...\n",
            "WARNING:tensorflow:From /usr/local/lib/python3.6/dist-packages/tensorflow/python/training/tracking/tracking.py:111: Model.state_updates (from tensorflow.python.keras.engine.training) is deprecated and will be removed in a future version.\n",
            "Instructions for updating:\n",
            "This property should not be used in TensorFlow 2.0, as updates are applied automatically.\n"
          ],
          "name": "stdout"
        },
        {
          "output_type": "stream",
          "text": [
            "WARNING:tensorflow:From /usr/local/lib/python3.6/dist-packages/tensorflow/python/training/tracking/tracking.py:111: Model.state_updates (from tensorflow.python.keras.engine.training) is deprecated and will be removed in a future version.\n",
            "Instructions for updating:\n",
            "This property should not be used in TensorFlow 2.0, as updates are applied automatically.\n"
          ],
          "name": "stderr"
        },
        {
          "output_type": "stream",
          "text": [
            "WARNING:tensorflow:From /usr/local/lib/python3.6/dist-packages/tensorflow/python/training/tracking/tracking.py:111: Layer.updates (from tensorflow.python.keras.engine.base_layer) is deprecated and will be removed in a future version.\n",
            "Instructions for updating:\n",
            "This property should not be used in TensorFlow 2.0, as updates are applied automatically.\n"
          ],
          "name": "stdout"
        },
        {
          "output_type": "stream",
          "text": [
            "WARNING:tensorflow:From /usr/local/lib/python3.6/dist-packages/tensorflow/python/training/tracking/tracking.py:111: Layer.updates (from tensorflow.python.keras.engine.base_layer) is deprecated and will be removed in a future version.\n",
            "Instructions for updating:\n",
            "This property should not be used in TensorFlow 2.0, as updates are applied automatically.\n"
          ],
          "name": "stderr"
        },
        {
          "output_type": "stream",
          "text": [
            "INFO:tensorflow:Assets written to: /content/drive/My Drive/Address Matching/iter2_bert_model_mixed_golden_and_false_positive_from_iter1_trained/bert_multi_cased_L-12_H-768_A-12/iter2_bert_model_multi_lang_address_gold_and_fp_values_from_iter1_fineturned.ckpt/assets\n"
          ],
          "name": "stdout"
        },
        {
          "output_type": "stream",
          "text": [
            "INFO:tensorflow:Assets written to: /content/drive/My Drive/Address Matching/iter2_bert_model_mixed_golden_and_false_positive_from_iter1_trained/bert_multi_cased_L-12_H-768_A-12/iter2_bert_model_multi_lang_address_gold_and_fp_values_from_iter1_fineturned.ckpt/assets\n"
          ],
          "name": "stderr"
        },
        {
          "output_type": "stream",
          "text": [
            " 10/313 [..............................] - ETA: 7:17 - loss: 0.3670 - accuracy: 0.8906 - val_accuracy: 0.9739973556632878\n",
            "Saving model to /content/drive/My Drive/Address Matching/iter2_bert_model_mixed_golden_and_false_positive_from_iter1_trained/bert_multi_cased_L-12_H-768_A-12/iter2_bert_model_multi_lang_address_gold_and_fp_values_from_iter1_fineturned.ckpt ...\n",
            "INFO:tensorflow:Assets written to: /content/drive/My Drive/Address Matching/iter2_bert_model_mixed_golden_and_false_positive_from_iter1_trained/bert_multi_cased_L-12_H-768_A-12/iter2_bert_model_multi_lang_address_gold_and_fp_values_from_iter1_fineturned.ckpt/assets\n"
          ],
          "name": "stdout"
        },
        {
          "output_type": "stream",
          "text": [
            "INFO:tensorflow:Assets written to: /content/drive/My Drive/Address Matching/iter2_bert_model_mixed_golden_and_false_positive_from_iter1_trained/bert_multi_cased_L-12_H-768_A-12/iter2_bert_model_multi_lang_address_gold_and_fp_values_from_iter1_fineturned.ckpt/assets\n"
          ],
          "name": "stderr"
        },
        {
          "output_type": "stream",
          "text": [
            " 20/313 [>.............................] - ETA: 30:51 - loss: 0.2802 - accuracy: 0.9297 - val_accuracy: 0.9814896430145439\n",
            "Saving model to /content/drive/My Drive/Address Matching/iter2_bert_model_mixed_golden_and_false_positive_from_iter1_trained/bert_multi_cased_L-12_H-768_A-12/iter2_bert_model_multi_lang_address_gold_and_fp_values_from_iter1_fineturned.ckpt ...\n",
            "INFO:tensorflow:Assets written to: /content/drive/My Drive/Address Matching/iter2_bert_model_mixed_golden_and_false_positive_from_iter1_trained/bert_multi_cased_L-12_H-768_A-12/iter2_bert_model_multi_lang_address_gold_and_fp_values_from_iter1_fineturned.ckpt/assets\n"
          ],
          "name": "stdout"
        },
        {
          "output_type": "stream",
          "text": [
            "INFO:tensorflow:Assets written to: /content/drive/My Drive/Address Matching/iter2_bert_model_mixed_golden_and_false_positive_from_iter1_trained/bert_multi_cased_L-12_H-768_A-12/iter2_bert_model_multi_lang_address_gold_and_fp_values_from_iter1_fineturned.ckpt/assets\n"
          ],
          "name": "stderr"
        },
        {
          "output_type": "stream",
          "text": [
            " 30/313 [=>............................] - ETA: 33:11 - loss: 0.2399 - accuracy: 0.9438 - val_accuracy: 0.9792860290877038\n",
            " 40/313 [==>...........................] - ETA: 30:02 - loss: 0.2072 - accuracy: 0.9531 - val_accuracy: 0.9806081974438079\n",
            " 50/313 [===>..........................] - ETA: 27:46 - loss: 0.1801 - accuracy: 0.9606 - val_accuracy: 0.9841339797267519\n",
            "Saving model to /content/drive/My Drive/Address Matching/iter2_bert_model_mixed_golden_and_false_positive_from_iter1_trained/bert_multi_cased_L-12_H-768_A-12/iter2_bert_model_multi_lang_address_gold_and_fp_values_from_iter1_fineturned.ckpt ...\n",
            "INFO:tensorflow:Assets written to: /content/drive/My Drive/Address Matching/iter2_bert_model_mixed_golden_and_false_positive_from_iter1_trained/bert_multi_cased_L-12_H-768_A-12/iter2_bert_model_multi_lang_address_gold_and_fp_values_from_iter1_fineturned.ckpt/assets\n"
          ],
          "name": "stdout"
        },
        {
          "output_type": "stream",
          "text": [
            "INFO:tensorflow:Assets written to: /content/drive/My Drive/Address Matching/iter2_bert_model_mixed_golden_and_false_positive_from_iter1_trained/bert_multi_cased_L-12_H-768_A-12/iter2_bert_model_multi_lang_address_gold_and_fp_values_from_iter1_fineturned.ckpt/assets\n"
          ],
          "name": "stderr"
        },
        {
          "output_type": "stream",
          "text": [
            " 60/313 [====>.........................] - ETA: 28:18 - loss: 0.1610 - accuracy: 0.9646 - val_accuracy: 0.9876597620096959\n",
            "Saving model to /content/drive/My Drive/Address Matching/iter2_bert_model_mixed_golden_and_false_positive_from_iter1_trained/bert_multi_cased_L-12_H-768_A-12/iter2_bert_model_multi_lang_address_gold_and_fp_values_from_iter1_fineturned.ckpt ...\n",
            "INFO:tensorflow:Assets written to: /content/drive/My Drive/Address Matching/iter2_bert_model_mixed_golden_and_false_positive_from_iter1_trained/bert_multi_cased_L-12_H-768_A-12/iter2_bert_model_multi_lang_address_gold_and_fp_values_from_iter1_fineturned.ckpt/assets\n"
          ],
          "name": "stdout"
        },
        {
          "output_type": "stream",
          "text": [
            "INFO:tensorflow:Assets written to: /content/drive/My Drive/Address Matching/iter2_bert_model_mixed_golden_and_false_positive_from_iter1_trained/bert_multi_cased_L-12_H-768_A-12/iter2_bert_model_multi_lang_address_gold_and_fp_values_from_iter1_fineturned.ckpt/assets\n"
          ],
          "name": "stderr"
        },
        {
          "output_type": "stream",
          "text": [
            " 70/313 [=====>........................] - ETA: 29:18 - loss: 0.1491 - accuracy: 0.9670 - val_accuracy: 0.990304098721904\n",
            "Saving model to /content/drive/My Drive/Address Matching/iter2_bert_model_mixed_golden_and_false_positive_from_iter1_trained/bert_multi_cased_L-12_H-768_A-12/iter2_bert_model_multi_lang_address_gold_and_fp_values_from_iter1_fineturned.ckpt ...\n",
            "INFO:tensorflow:Assets written to: /content/drive/My Drive/Address Matching/iter2_bert_model_mixed_golden_and_false_positive_from_iter1_trained/bert_multi_cased_L-12_H-768_A-12/iter2_bert_model_multi_lang_address_gold_and_fp_values_from_iter1_fineturned.ckpt/assets\n"
          ],
          "name": "stdout"
        },
        {
          "output_type": "stream",
          "text": [
            "INFO:tensorflow:Assets written to: /content/drive/My Drive/Address Matching/iter2_bert_model_mixed_golden_and_false_positive_from_iter1_trained/bert_multi_cased_L-12_H-768_A-12/iter2_bert_model_multi_lang_address_gold_and_fp_values_from_iter1_fineturned.ckpt/assets\n"
          ],
          "name": "stderr"
        },
        {
          "output_type": "stream",
          "text": [
            " 80/313 [======>.......................] - ETA: 28:57 - loss: 0.1334 - accuracy: 0.9711 - val_accuracy: 0.989422653151168\n",
            " 90/313 [=======>......................] - ETA: 26:49 - loss: 0.1204 - accuracy: 0.9743 - val_accuracy: 0.9872190392243279\n",
            "100/313 [========>.....................] - ETA: 24:56 - loss: 0.1128 - accuracy: 0.9753 - val_accuracy: 0.9889819303658\n",
            "110/313 [=========>....................] - ETA: 23:13 - loss: 0.1121 - accuracy: 0.9747 - val_accuracy: 0.9907448215072719\n",
            "Saving model to /content/drive/My Drive/Address Matching/iter2_bert_model_mixed_golden_and_false_positive_from_iter1_trained/bert_multi_cased_L-12_H-768_A-12/iter2_bert_model_multi_lang_address_gold_and_fp_values_from_iter1_fineturned.ckpt ...\n",
            "INFO:tensorflow:Assets written to: /content/drive/My Drive/Address Matching/iter2_bert_model_mixed_golden_and_false_positive_from_iter1_trained/bert_multi_cased_L-12_H-768_A-12/iter2_bert_model_multi_lang_address_gold_and_fp_values_from_iter1_fineturned.ckpt/assets\n"
          ],
          "name": "stdout"
        },
        {
          "output_type": "stream",
          "text": [
            "INFO:tensorflow:Assets written to: /content/drive/My Drive/Address Matching/iter2_bert_model_mixed_golden_and_false_positive_from_iter1_trained/bert_multi_cased_L-12_H-768_A-12/iter2_bert_model_multi_lang_address_gold_and_fp_values_from_iter1_fineturned.ckpt/assets\n"
          ],
          "name": "stderr"
        },
        {
          "output_type": "stream",
          "text": [
            "120/313 [==========>...................] - ETA: 22:30 - loss: 0.1091 - accuracy: 0.9753 - val_accuracy: 0.9867783164389599\n",
            "130/313 [===========>..................] - ETA: 20:56 - loss: 0.1032 - accuracy: 0.9764 - val_accuracy: 0.989422653151168\n",
            "140/313 [============>.................] - ETA: 19:27 - loss: 0.0976 - accuracy: 0.9777 - val_accuracy: 0.990304098721904\n",
            "150/313 [=============>................] - ETA: 18:04 - loss: 0.0935 - accuracy: 0.9785 - val_accuracy: 0.990304098721904\n",
            "160/313 [==============>...............] - ETA: 16:44 - loss: 0.0906 - accuracy: 0.9791 - val_accuracy: 0.989863375936536\n",
            "170/313 [===============>..............] - ETA: 15:28 - loss: 0.0867 - accuracy: 0.9800 - val_accuracy: 0.9889819303658\n",
            "180/313 [================>.............] - ETA: 14:14 - loss: 0.0831 - accuracy: 0.9809 - val_accuracy: 0.989863375936536\n",
            "190/313 [=================>............] - ETA: 13:02 - loss: 0.0801 - accuracy: 0.9816 - val_accuracy: 0.9889819303658\n",
            "200/313 [==================>...........] - ETA: 11:52 - loss: 0.0780 - accuracy: 0.9817 - val_accuracy: 0.9911855442926399\n",
            "Saving model to /content/drive/My Drive/Address Matching/iter2_bert_model_mixed_golden_and_false_positive_from_iter1_trained/bert_multi_cased_L-12_H-768_A-12/iter2_bert_model_multi_lang_address_gold_and_fp_values_from_iter1_fineturned.ckpt ...\n",
            "INFO:tensorflow:Assets written to: /content/drive/My Drive/Address Matching/iter2_bert_model_mixed_golden_and_false_positive_from_iter1_trained/bert_multi_cased_L-12_H-768_A-12/iter2_bert_model_multi_lang_address_gold_and_fp_values_from_iter1_fineturned.ckpt/assets\n"
          ],
          "name": "stdout"
        },
        {
          "output_type": "stream",
          "text": [
            "INFO:tensorflow:Assets written to: /content/drive/My Drive/Address Matching/iter2_bert_model_mixed_golden_and_false_positive_from_iter1_trained/bert_multi_cased_L-12_H-768_A-12/iter2_bert_model_multi_lang_address_gold_and_fp_values_from_iter1_fineturned.ckpt/assets\n"
          ],
          "name": "stderr"
        },
        {
          "output_type": "stream",
          "text": [
            "210/313 [===================>..........] - ETA: 11:01 - loss: 0.0754 - accuracy: 0.9821 - val_accuracy: 0.9916262670780079\n",
            "Saving model to /content/drive/My Drive/Address Matching/iter2_bert_model_mixed_golden_and_false_positive_from_iter1_trained/bert_multi_cased_L-12_H-768_A-12/iter2_bert_model_multi_lang_address_gold_and_fp_values_from_iter1_fineturned.ckpt ...\n",
            "INFO:tensorflow:Assets written to: /content/drive/My Drive/Address Matching/iter2_bert_model_mixed_golden_and_false_positive_from_iter1_trained/bert_multi_cased_L-12_H-768_A-12/iter2_bert_model_multi_lang_address_gold_and_fp_values_from_iter1_fineturned.ckpt/assets\n"
          ],
          "name": "stdout"
        },
        {
          "output_type": "stream",
          "text": [
            "INFO:tensorflow:Assets written to: /content/drive/My Drive/Address Matching/iter2_bert_model_mixed_golden_and_false_positive_from_iter1_trained/bert_multi_cased_L-12_H-768_A-12/iter2_bert_model_multi_lang_address_gold_and_fp_values_from_iter1_fineturned.ckpt/assets\n"
          ],
          "name": "stderr"
        },
        {
          "output_type": "stream",
          "text": [
            "220/313 [====================>.........] - ETA: 10:18 - loss: 0.0723 - accuracy: 0.9828 - val_accuracy: 0.9911855442926399\n",
            "230/313 [=====================>........] - ETA: 9:07 - loss: 0.0709 - accuracy: 0.9830 - val_accuracy: 0.9858968708682239\n",
            "240/313 [======================>.......] - ETA: 7:57 - loss: 0.0695 - accuracy: 0.9833 - val_accuracy: 0.990304098721904\n",
            "250/313 [======================>.......] - ETA: 6:48 - loss: 0.0686 - accuracy: 0.9835 - val_accuracy: 0.9911855442926399\n",
            "260/313 [=======================>......] - ETA: 5:41 - loss: 0.0675 - accuracy: 0.9838 - val_accuracy: 0.989422653151168\n",
            "270/313 [========================>.....] - ETA: 4:35 - loss: 0.0662 - accuracy: 0.9841 - val_accuracy: 0.990304098721904\n",
            "280/313 [=========================>....] - ETA: 3:29 - loss: 0.0655 - accuracy: 0.9843 - val_accuracy: 0.988541207580432\n",
            "290/313 [==========================>...] - ETA: 2:25 - loss: 0.0636 - accuracy: 0.9847 - val_accuracy: 0.9810489202291759\n",
            "300/313 [===========================>..] - ETA: 1:21 - loss: 0.0632 - accuracy: 0.9848 - val_accuracy: 0.9836932569413839\n",
            "310/313 [============================>.] - ETA: 18s - loss: 0.0624 - accuracy: 0.9851 - val_accuracy: 0.9858968708682239\n",
            "313/313 [==============================] - 2019s 6s/step - loss: 0.0620 - accuracy: 0.9852 - val_loss: 0.0414 - val_accuracy: 0.9890\n",
            "\n",
            "Epoch 00002: LearningRateScheduler reducing learning rate to 7.248278288571362e-06.\n",
            "Epoch 2/50\n",
            " - val_accuracy: 0.9889819303658\n",
            " 10/313 [..............................] - ETA: 7:14 - loss: 0.0420 - accuracy: 0.9937 - val_accuracy: 0.988541207580432\n",
            " 20/313 [>.............................] - ETA: 16:26 - loss: 0.0487 - accuracy: 0.9891 - val_accuracy: 0.990304098721904\n",
            " 30/313 [=>............................] - ETA: 18:55 - loss: 0.0395 - accuracy: 0.9917 - val_accuracy: 0.9889819303658\n",
            " 40/313 [==>...........................] - ETA: 19:43 - loss: 0.0311 - accuracy: 0.9937 - val_accuracy: 0.9889819303658\n",
            " 50/313 [===>..........................] - ETA: 19:50 - loss: 0.0257 - accuracy: 0.9950 - val_accuracy: 0.9889819303658\n",
            " 60/313 [====>.........................] - ETA: 19:38 - loss: 0.0224 - accuracy: 0.9958 - val_accuracy: 0.9911855442926399\n",
            " 70/313 [=====>........................] - ETA: 19:13 - loss: 0.0268 - accuracy: 0.9946 - val_accuracy: 0.9916262670780079\n",
            " 80/313 [======>.......................] - ETA: 18:42 - loss: 0.0259 - accuracy: 0.9945 - val_accuracy: 0.989863375936536\n",
            " 90/313 [=======>......................] - ETA: 18:06 - loss: 0.0256 - accuracy: 0.9941 - val_accuracy: 0.9920669898633759\n",
            "Saving model to /content/drive/My Drive/Address Matching/iter2_bert_model_mixed_golden_and_false_positive_from_iter1_trained/bert_multi_cased_L-12_H-768_A-12/iter2_bert_model_multi_lang_address_gold_and_fp_values_from_iter1_fineturned.ckpt ...\n",
            "INFO:tensorflow:Assets written to: /content/drive/My Drive/Address Matching/iter2_bert_model_mixed_golden_and_false_positive_from_iter1_trained/bert_multi_cased_L-12_H-768_A-12/iter2_bert_model_multi_lang_address_gold_and_fp_values_from_iter1_fineturned.ckpt/assets\n"
          ],
          "name": "stdout"
        },
        {
          "output_type": "stream",
          "text": [
            "INFO:tensorflow:Assets written to: /content/drive/My Drive/Address Matching/iter2_bert_model_mixed_golden_and_false_positive_from_iter1_trained/bert_multi_cased_L-12_H-768_A-12/iter2_bert_model_multi_lang_address_gold_and_fp_values_from_iter1_fineturned.ckpt/assets\n"
          ],
          "name": "stderr"
        },
        {
          "output_type": "stream",
          "text": [
            "100/313 [========>.....................] - ETA: 18:41 - loss: 0.0256 - accuracy: 0.9941 - val_accuracy: 0.9889819303658\n",
            "110/313 [=========>....................] - ETA: 17:49 - loss: 0.0269 - accuracy: 0.9937 - val_accuracy: 0.988100484795064\n",
            "120/313 [==========>...................] - ETA: 16:57 - loss: 0.0291 - accuracy: 0.9932 - val_accuracy: 0.989422653151168\n",
            "130/313 [===========>..................] - ETA: 16:04 - loss: 0.0294 - accuracy: 0.9933 - val_accuracy: 0.9889819303658\n",
            "140/313 [============>.................] - ETA: 15:12 - loss: 0.0302 - accuracy: 0.9931 - val_accuracy: 0.989863375936536\n",
            "150/313 [=============>................] - ETA: 14:19 - loss: 0.0300 - accuracy: 0.9929 - val_accuracy: 0.989422653151168\n",
            "160/313 [==============>...............] - ETA: 13:27 - loss: 0.0285 - accuracy: 0.9934 - val_accuracy: 0.990304098721904\n",
            "170/313 [===============>..............] - ETA: 12:34 - loss: 0.0289 - accuracy: 0.9932 - val_accuracy: 0.9916262670780079\n",
            "180/313 [================>.............] - ETA: 11:41 - loss: 0.0280 - accuracy: 0.9934 - val_accuracy: 0.9920669898633759\n",
            "190/313 [=================>............] - ETA: 10:49 - loss: 0.0277 - accuracy: 0.9934 - val_accuracy: 0.9920669898633759\n",
            "200/313 [==================>...........] - ETA: 9:56 - loss: 0.0270 - accuracy: 0.9936  - val_accuracy: 0.9911855442926399\n",
            "210/313 [===================>..........] - ETA: 9:03 - loss: 0.0264 - accuracy: 0.9937 - val_accuracy: 0.9920669898633759\n",
            "220/313 [====================>.........] - ETA: 8:10 - loss: 0.0264 - accuracy: 0.9936 - val_accuracy: 0.9911855442926399\n",
            "230/313 [=====================>........] - ETA: 7:18 - loss: 0.0263 - accuracy: 0.9936 - val_accuracy: 0.9916262670780079\n",
            "240/313 [======================>.......] - ETA: 6:25 - loss: 0.0263 - accuracy: 0.9937 - val_accuracy: 0.9916262670780079\n",
            "250/313 [======================>.......] - ETA: 5:32 - loss: 0.0257 - accuracy: 0.9937 - val_accuracy: 0.9920669898633759\n",
            "260/313 [=======================>......] - ETA: 4:39 - loss: 0.0248 - accuracy: 0.9940 - val_accuracy: 0.9925077126487439\n",
            "Saving model to /content/drive/My Drive/Address Matching/iter2_bert_model_mixed_golden_and_false_positive_from_iter1_trained/bert_multi_cased_L-12_H-768_A-12/iter2_bert_model_multi_lang_address_gold_and_fp_values_from_iter1_fineturned.ckpt ...\n",
            "INFO:tensorflow:Assets written to: /content/drive/My Drive/Address Matching/iter2_bert_model_mixed_golden_and_false_positive_from_iter1_trained/bert_multi_cased_L-12_H-768_A-12/iter2_bert_model_multi_lang_address_gold_and_fp_values_from_iter1_fineturned.ckpt/assets\n"
          ],
          "name": "stdout"
        },
        {
          "output_type": "stream",
          "text": [
            "INFO:tensorflow:Assets written to: /content/drive/My Drive/Address Matching/iter2_bert_model_mixed_golden_and_false_positive_from_iter1_trained/bert_multi_cased_L-12_H-768_A-12/iter2_bert_model_multi_lang_address_gold_and_fp_values_from_iter1_fineturned.ckpt/assets\n"
          ],
          "name": "stderr"
        },
        {
          "output_type": "stream",
          "text": [
            "270/313 [========================>.....] - ETA: 3:52 - loss: 0.0243 - accuracy: 0.9941 - val_accuracy: 0.9920669898633759\n",
            "280/313 [=========================>....] - ETA: 2:58 - loss: 0.0243 - accuracy: 0.9941 - val_accuracy: 0.9925077126487439\n",
            "290/313 [==========================>...] - ETA: 2:04 - loss: 0.0256 - accuracy: 0.9939 - val_accuracy: 0.9916262670780079\n",
            "300/313 [===========================>..] - ETA: 1:10 - loss: 0.0254 - accuracy: 0.9940 - val_accuracy: 0.9920669898633759\n",
            "310/313 [============================>.] - ETA: 16s - loss: 0.0258 - accuracy: 0.9940 - val_accuracy: 0.9920669898633759\n",
            "313/313 [==============================] - 1752s 6s/step - loss: 0.0257 - accuracy: 0.9940 - val_loss: 0.0301 - val_accuracy: 0.9921\n",
            "\n",
            "Epoch 00003: LearningRateScheduler reducing learning rate to 3.324616146559414e-06.\n",
            "Epoch 3/50\n",
            " - val_accuracy: 0.9920669898633759\n",
            " 10/313 [..............................] - ETA: 7:11 - loss: 0.0333 - accuracy: 0.9906 - val_accuracy: 0.9920669898633759\n",
            " 20/313 [>.............................] - ETA: 16:22 - loss: 0.0249 - accuracy: 0.9937 - val_accuracy: 0.9920669898633759\n",
            " 30/313 [=>............................] - ETA: 18:50 - loss: 0.0186 - accuracy: 0.9958 - val_accuracy: 0.9920669898633759\n",
            " 40/313 [==>...........................] - ETA: 19:38 - loss: 0.0221 - accuracy: 0.9953 - val_accuracy: 0.9925077126487439\n",
            " 50/313 [===>..........................] - ETA: 19:45 - loss: 0.0263 - accuracy: 0.9944 - val_accuracy: 0.9925077126487439\n",
            " 60/313 [====>.........................] - ETA: 19:32 - loss: 0.0236 - accuracy: 0.9948 - val_accuracy: 0.9925077126487439\n",
            " 70/313 [=====>........................] - ETA: 19:08 - loss: 0.0233 - accuracy: 0.9951 - val_accuracy: 0.9920669898633759\n",
            " 80/313 [======>.......................] - ETA: 18:37 - loss: 0.0230 - accuracy: 0.9953 - val_accuracy: 0.9920669898633759\n",
            " 90/313 [=======>......................] - ETA: 18:01 - loss: 0.0218 - accuracy: 0.9955 - val_accuracy: 0.9920669898633759\n",
            "100/313 [========>.....................] - ETA: 17:21 - loss: 0.0199 - accuracy: 0.9959 - val_accuracy: 0.9916262670780079\n",
            "110/313 [=========>....................] - ETA: 16:40 - loss: 0.0190 - accuracy: 0.9960 - val_accuracy: 0.9916262670780079\n",
            "120/313 [==========>...................] - ETA: 15:56 - loss: 0.0205 - accuracy: 0.9956 - val_accuracy: 0.9920669898633759\n",
            "130/313 [===========>..................] - ETA: 15:11 - loss: 0.0219 - accuracy: 0.9952 - val_accuracy: 0.9925077126487439\n",
            "140/313 [============>.................] - ETA: 14:25 - loss: 0.0230 - accuracy: 0.9951 - val_accuracy: 0.9925077126487439\n",
            "150/313 [=============>................] - ETA: 13:38 - loss: 0.0219 - accuracy: 0.9954 - val_accuracy: 0.9925077126487439\n",
            "160/313 [==============>...............] - ETA: 12:50 - loss: 0.0218 - accuracy: 0.9955 - val_accuracy: 0.9929484354341119\n",
            "Saving model to /content/drive/My Drive/Address Matching/iter2_bert_model_mixed_golden_and_false_positive_from_iter1_trained/bert_multi_cased_L-12_H-768_A-12/iter2_bert_model_multi_lang_address_gold_and_fp_values_from_iter1_fineturned.ckpt ...\n",
            "INFO:tensorflow:Assets written to: /content/drive/My Drive/Address Matching/iter2_bert_model_mixed_golden_and_false_positive_from_iter1_trained/bert_multi_cased_L-12_H-768_A-12/iter2_bert_model_multi_lang_address_gold_and_fp_values_from_iter1_fineturned.ckpt/assets\n"
          ],
          "name": "stdout"
        },
        {
          "output_type": "stream",
          "text": [
            "INFO:tensorflow:Assets written to: /content/drive/My Drive/Address Matching/iter2_bert_model_mixed_golden_and_false_positive_from_iter1_trained/bert_multi_cased_L-12_H-768_A-12/iter2_bert_model_multi_lang_address_gold_and_fp_values_from_iter1_fineturned.ckpt/assets\n"
          ],
          "name": "stderr"
        },
        {
          "output_type": "stream",
          "text": [
            "170/313 [===============>..............] - ETA: 12:32 - loss: 0.0208 - accuracy: 0.9958 - val_accuracy: 0.9925077126487439\n",
            "180/313 [================>.............] - ETA: 11:46 - loss: 0.0203 - accuracy: 0.9958 - val_accuracy: 0.9925077126487439\n",
            "190/313 [=================>............] - ETA: 10:53 - loss: 0.0202 - accuracy: 0.9957 - val_accuracy: 0.9925077126487439\n",
            "200/313 [==================>...........] - ETA: 9:59 - loss: 0.0198 - accuracy: 0.9958  - val_accuracy: 0.9925077126487439\n",
            "210/313 [===================>..........] - ETA: 9:06 - loss: 0.0196 - accuracy: 0.9958 - val_accuracy: 0.9925077126487439\n",
            "220/313 [====================>.........] - ETA: 8:13 - loss: 0.0202 - accuracy: 0.9956 - val_accuracy: 0.9933891582194799\n",
            "Saving model to /content/drive/My Drive/Address Matching/iter2_bert_model_mixed_golden_and_false_positive_from_iter1_trained/bert_multi_cased_L-12_H-768_A-12/iter2_bert_model_multi_lang_address_gold_and_fp_values_from_iter1_fineturned.ckpt ...\n",
            "INFO:tensorflow:Assets written to: /content/drive/My Drive/Address Matching/iter2_bert_model_mixed_golden_and_false_positive_from_iter1_trained/bert_multi_cased_L-12_H-768_A-12/iter2_bert_model_multi_lang_address_gold_and_fp_values_from_iter1_fineturned.ckpt/assets\n"
          ],
          "name": "stdout"
        },
        {
          "output_type": "stream",
          "text": [
            "INFO:tensorflow:Assets written to: /content/drive/My Drive/Address Matching/iter2_bert_model_mixed_golden_and_false_positive_from_iter1_trained/bert_multi_cased_L-12_H-768_A-12/iter2_bert_model_multi_lang_address_gold_and_fp_values_from_iter1_fineturned.ckpt/assets\n"
          ],
          "name": "stderr"
        },
        {
          "output_type": "stream",
          "text": [
            "230/313 [=====================>........] - ETA: 7:33 - loss: 0.0195 - accuracy: 0.9958 - val_accuracy: 0.9938298810048479\n",
            "Saving model to /content/drive/My Drive/Address Matching/iter2_bert_model_mixed_golden_and_false_positive_from_iter1_trained/bert_multi_cased_L-12_H-768_A-12/iter2_bert_model_multi_lang_address_gold_and_fp_values_from_iter1_fineturned.ckpt ...\n",
            "INFO:tensorflow:Assets written to: /content/drive/My Drive/Address Matching/iter2_bert_model_mixed_golden_and_false_positive_from_iter1_trained/bert_multi_cased_L-12_H-768_A-12/iter2_bert_model_multi_lang_address_gold_and_fp_values_from_iter1_fineturned.ckpt/assets\n"
          ],
          "name": "stdout"
        },
        {
          "output_type": "stream",
          "text": [
            "INFO:tensorflow:Assets written to: /content/drive/My Drive/Address Matching/iter2_bert_model_mixed_golden_and_false_positive_from_iter1_trained/bert_multi_cased_L-12_H-768_A-12/iter2_bert_model_multi_lang_address_gold_and_fp_values_from_iter1_fineturned.ckpt/assets\n"
          ],
          "name": "stderr"
        },
        {
          "output_type": "stream",
          "text": [
            "240/313 [======================>.......] - ETA: 6:56 - loss: 0.0188 - accuracy: 0.9960 - val_accuracy: 0.9933891582194799\n",
            "250/313 [======================>.......] - ETA: 5:58 - loss: 0.0182 - accuracy: 0.9961 - val_accuracy: 0.9933891582194799\n",
            "260/313 [=======================>......] - ETA: 5:00 - loss: 0.0176 - accuracy: 0.9963 - val_accuracy: 0.9933891582194799\n",
            "270/313 [========================>.....] - ETA: 4:03 - loss: 0.0180 - accuracy: 0.9962 - val_accuracy: 0.9933891582194799\n",
            "280/313 [=========================>....] - ETA: 3:06 - loss: 0.0188 - accuracy: 0.9961 - val_accuracy: 0.9933891582194799\n",
            "290/313 [==========================>...] - ETA: 2:09 - loss: 0.0182 - accuracy: 0.9962 - val_accuracy: 0.9933891582194799\n",
            "300/313 [===========================>..] - ETA: 1:13 - loss: 0.0185 - accuracy: 0.9961 - val_accuracy: 0.9933891582194799\n",
            "310/313 [============================>.] - ETA: 16s - loss: 0.0187 - accuracy: 0.9961 - val_accuracy: 0.9929484354341119\n",
            "313/313 [==============================] - 1818s 6s/step - loss: 0.0190 - accuracy: 0.9960 - val_loss: 0.0276 - val_accuracy: 0.9925\n",
            "\n",
            "Epoch 00004: LearningRateScheduler reducing learning rate to 1e-06.\n",
            "Epoch 4/50\n",
            " - val_accuracy: 0.9925077126487439\n",
            " 10/313 [..............................] - ETA: 7:11 - loss: 0.0296 - accuracy: 0.9937 - val_accuracy: 0.9929484354341119\n",
            " 20/313 [>.............................] - ETA: 16:21 - loss: 0.0242 - accuracy: 0.9953 - val_accuracy: 0.9925077126487439\n",
            " 30/313 [=>............................] - ETA: 18:50 - loss: 0.0171 - accuracy: 0.9969 - val_accuracy: 0.9925077126487439\n",
            " 40/313 [==>...........................] - ETA: 19:37 - loss: 0.0172 - accuracy: 0.9961 - val_accuracy: 0.9925077126487439\n",
            " 50/313 [===>..........................] - ETA: 19:45 - loss: 0.0151 - accuracy: 0.9962 - val_accuracy: 0.9925077126487439\n",
            " 60/313 [====>.........................] - ETA: 19:32 - loss: 0.0166 - accuracy: 0.9958 - val_accuracy: 0.9925077126487439\n",
            " 70/313 [=====>........................] - ETA: 19:08 - loss: 0.0148 - accuracy: 0.9964 - val_accuracy: 0.9925077126487439\n",
            " 80/313 [======>.......................] - ETA: 18:37 - loss: 0.0175 - accuracy: 0.9957 - val_accuracy: 0.9925077126487439\n",
            " 90/313 [=======>......................] - ETA: 18:01 - loss: 0.0163 - accuracy: 0.9962 - val_accuracy: 0.9925077126487439\n",
            "100/313 [========>.....................] - ETA: 17:22 - loss: 0.0150 - accuracy: 0.9966 - val_accuracy: 0.9920669898633759\n",
            "110/313 [=========>....................] - ETA: 16:40 - loss: 0.0143 - accuracy: 0.9966 - val_accuracy: 0.9916262670780079\n",
            "120/313 [==========>...................] - ETA: 15:56 - loss: 0.0140 - accuracy: 0.9966 - val_accuracy: 0.9920669898633759\n",
            "130/313 [===========>..................] - ETA: 15:11 - loss: 0.0135 - accuracy: 0.9966 - val_accuracy: 0.9929484354341119\n",
            "140/313 [============>.................] - ETA: 14:25 - loss: 0.0134 - accuracy: 0.9964 - val_accuracy: 0.9929484354341119\n",
            "150/313 [=============>................] - ETA: 13:38 - loss: 0.0137 - accuracy: 0.9965 - val_accuracy: 0.9929484354341119\n",
            "160/313 [==============>...............] - ETA: 12:50 - loss: 0.0131 - accuracy: 0.9967 - val_accuracy: 0.9929484354341119\n",
            "170/313 [===============>..............] - ETA: 12:02 - loss: 0.0134 - accuracy: 0.9965 - val_accuracy: 0.9929484354341119\n",
            "180/313 [================>.............] - ETA: 11:13 - loss: 0.0140 - accuracy: 0.9964 - val_accuracy: 0.9929484354341119\n",
            "190/313 [=================>............] - ETA: 10:24 - loss: 0.0134 - accuracy: 0.9965 - val_accuracy: 0.9929484354341119\n",
            "200/313 [==================>...........] - ETA: 9:34 - loss: 0.0135 - accuracy: 0.9966 - val_accuracy: 0.9929484354341119\n",
            "210/313 [===================>..........] - ETA: 8:44 - loss: 0.0138 - accuracy: 0.9964 - val_accuracy: 0.9929484354341119\n",
            "220/313 [====================>.........] - ETA: 7:54 - loss: 0.0134 - accuracy: 0.9966 - val_accuracy: 0.9929484354341119\n",
            "230/313 [=====================>........] - ETA: 7:04 - loss: 0.0144 - accuracy: 0.9965 - val_accuracy: 0.9933891582194799\n",
            "240/313 [======================>.......] - ETA: 6:13 - loss: 0.0139 - accuracy: 0.9966 - val_accuracy: 0.9933891582194799\n",
            "250/313 [======================>.......] - ETA: 5:22 - loss: 0.0135 - accuracy: 0.9967 - val_accuracy: 0.9933891582194799\n",
            "260/313 [=======================>......] - ETA: 4:31 - loss: 0.0141 - accuracy: 0.9966 - val_accuracy: 0.9933891582194799\n",
            "270/313 [========================>.....] - ETA: 3:40 - loss: 0.0137 - accuracy: 0.9968 - val_accuracy: 0.9933891582194799\n",
            "280/313 [=========================>....] - ETA: 2:49 - loss: 0.0137 - accuracy: 0.9968 - val_accuracy: 0.9933891582194799\n",
            "290/313 [==========================>...] - ETA: 1:58 - loss: 0.0142 - accuracy: 0.9967 - val_accuracy: 0.9933891582194799\n",
            "300/313 [===========================>..] - ETA: 1:06 - loss: 0.0138 - accuracy: 0.9968 - val_accuracy: 0.9933891582194799\n",
            "310/313 [============================>.] - ETA: 15s - loss: 0.0138 - accuracy: 0.9968 - val_accuracy: 0.9933891582194799\n",
            "313/313 [==============================] - 1675s 5s/step - loss: 0.0142 - accuracy: 0.9967 - val_loss: 0.0277 - val_accuracy: 0.9934\n"
          ],
          "name": "stdout"
        },
        {
          "output_type": "error",
          "ename": "ValueError",
          "evalue": "ignored",
          "traceback": [
            "\u001b[0;31m---------------------------------------------------------------------------\u001b[0m",
            "\u001b[0;31mValueError\u001b[0m                                Traceback (most recent call last)",
            "\u001b[0;32m<ipython-input-27-cc31e66bf1b9>\u001b[0m in \u001b[0;36m<module>\u001b[0;34m()\u001b[0m\n\u001b[1;32m      1\u001b[0m model.fit([input_ids_train, input_masks_train, segment_id_train], label[:10000], \n\u001b[1;32m      2\u001b[0m           \u001b[0mvalidation_data\u001b[0m\u001b[0;34m=\u001b[0m\u001b[0;34m(\u001b[0m\u001b[0;34m[\u001b[0m\u001b[0minput_ids_valid\u001b[0m\u001b[0;34m,\u001b[0m \u001b[0minput_masks_valid\u001b[0m\u001b[0;34m,\u001b[0m \u001b[0msegment_id_valid\u001b[0m\u001b[0;34m]\u001b[0m\u001b[0;34m,\u001b[0m \u001b[0mlabel\u001b[0m\u001b[0;34m[\u001b[0m\u001b[0;36m10000\u001b[0m\u001b[0;34m:\u001b[0m\u001b[0;34m]\u001b[0m\u001b[0;34m)\u001b[0m\u001b[0;34m,\u001b[0m\u001b[0;34m\u001b[0m\u001b[0;34m\u001b[0m\u001b[0m\n\u001b[0;32m----> 3\u001b[0;31m           epochs = 50, callbacks = cb_lists, shuffle = True, batch_size=32) \n\u001b[0m",
            "\u001b[0;32m/usr/local/lib/python3.6/dist-packages/tensorflow/python/keras/engine/training.py\u001b[0m in \u001b[0;36m_method_wrapper\u001b[0;34m(self, *args, **kwargs)\u001b[0m\n\u001b[1;32m    106\u001b[0m   \u001b[0;32mdef\u001b[0m \u001b[0m_method_wrapper\u001b[0m\u001b[0;34m(\u001b[0m\u001b[0mself\u001b[0m\u001b[0;34m,\u001b[0m \u001b[0;34m*\u001b[0m\u001b[0margs\u001b[0m\u001b[0;34m,\u001b[0m \u001b[0;34m**\u001b[0m\u001b[0mkwargs\u001b[0m\u001b[0;34m)\u001b[0m\u001b[0;34m:\u001b[0m\u001b[0;34m\u001b[0m\u001b[0;34m\u001b[0m\u001b[0m\n\u001b[1;32m    107\u001b[0m     \u001b[0;32mif\u001b[0m \u001b[0;32mnot\u001b[0m \u001b[0mself\u001b[0m\u001b[0;34m.\u001b[0m\u001b[0m_in_multi_worker_mode\u001b[0m\u001b[0;34m(\u001b[0m\u001b[0;34m)\u001b[0m\u001b[0;34m:\u001b[0m  \u001b[0;31m# pylint: disable=protected-access\u001b[0m\u001b[0;34m\u001b[0m\u001b[0;34m\u001b[0m\u001b[0m\n\u001b[0;32m--> 108\u001b[0;31m       \u001b[0;32mreturn\u001b[0m \u001b[0mmethod\u001b[0m\u001b[0;34m(\u001b[0m\u001b[0mself\u001b[0m\u001b[0;34m,\u001b[0m \u001b[0;34m*\u001b[0m\u001b[0margs\u001b[0m\u001b[0;34m,\u001b[0m \u001b[0;34m**\u001b[0m\u001b[0mkwargs\u001b[0m\u001b[0;34m)\u001b[0m\u001b[0;34m\u001b[0m\u001b[0;34m\u001b[0m\u001b[0m\n\u001b[0m\u001b[1;32m    109\u001b[0m \u001b[0;34m\u001b[0m\u001b[0m\n\u001b[1;32m    110\u001b[0m     \u001b[0;31m# Running inside `run_distribute_coordinator` already.\u001b[0m\u001b[0;34m\u001b[0m\u001b[0;34m\u001b[0m\u001b[0;34m\u001b[0m\u001b[0m\n",
            "\u001b[0;32m/usr/local/lib/python3.6/dist-packages/tensorflow/python/keras/engine/training.py\u001b[0m in \u001b[0;36mfit\u001b[0;34m(self, x, y, batch_size, epochs, verbose, callbacks, validation_split, validation_data, shuffle, class_weight, sample_weight, initial_epoch, steps_per_epoch, validation_steps, validation_batch_size, validation_freq, max_queue_size, workers, use_multiprocessing)\u001b[0m\n\u001b[1;32m   1086\u001b[0m       \u001b[0;32mfor\u001b[0m \u001b[0mepoch\u001b[0m\u001b[0;34m,\u001b[0m \u001b[0miterator\u001b[0m \u001b[0;32min\u001b[0m \u001b[0mdata_handler\u001b[0m\u001b[0;34m.\u001b[0m\u001b[0menumerate_epochs\u001b[0m\u001b[0;34m(\u001b[0m\u001b[0;34m)\u001b[0m\u001b[0;34m:\u001b[0m\u001b[0;34m\u001b[0m\u001b[0;34m\u001b[0m\u001b[0m\n\u001b[1;32m   1087\u001b[0m         \u001b[0mself\u001b[0m\u001b[0;34m.\u001b[0m\u001b[0mreset_metrics\u001b[0m\u001b[0;34m(\u001b[0m\u001b[0;34m)\u001b[0m\u001b[0;34m\u001b[0m\u001b[0;34m\u001b[0m\u001b[0m\n\u001b[0;32m-> 1088\u001b[0;31m         \u001b[0mcallbacks\u001b[0m\u001b[0;34m.\u001b[0m\u001b[0mon_epoch_begin\u001b[0m\u001b[0;34m(\u001b[0m\u001b[0mepoch\u001b[0m\u001b[0;34m)\u001b[0m\u001b[0;34m\u001b[0m\u001b[0;34m\u001b[0m\u001b[0m\n\u001b[0m\u001b[1;32m   1089\u001b[0m         \u001b[0;32mwith\u001b[0m \u001b[0mdata_handler\u001b[0m\u001b[0;34m.\u001b[0m\u001b[0mcatch_stop_iteration\u001b[0m\u001b[0;34m(\u001b[0m\u001b[0;34m)\u001b[0m\u001b[0;34m:\u001b[0m\u001b[0;34m\u001b[0m\u001b[0;34m\u001b[0m\u001b[0m\n\u001b[1;32m   1090\u001b[0m           \u001b[0;32mfor\u001b[0m \u001b[0mstep\u001b[0m \u001b[0;32min\u001b[0m \u001b[0mdata_handler\u001b[0m\u001b[0;34m.\u001b[0m\u001b[0msteps\u001b[0m\u001b[0;34m(\u001b[0m\u001b[0;34m)\u001b[0m\u001b[0;34m:\u001b[0m\u001b[0;34m\u001b[0m\u001b[0;34m\u001b[0m\u001b[0m\n",
            "\u001b[0;32m/usr/local/lib/python3.6/dist-packages/tensorflow/python/keras/callbacks.py\u001b[0m in \u001b[0;36mon_epoch_begin\u001b[0;34m(self, epoch, logs)\u001b[0m\n\u001b[1;32m    393\u001b[0m         \u001b[0;32mif\u001b[0m \u001b[0mnumpy_logs\u001b[0m \u001b[0;32mis\u001b[0m \u001b[0;32mNone\u001b[0m\u001b[0;34m:\u001b[0m  \u001b[0;31m# Only convert once.\u001b[0m\u001b[0;34m\u001b[0m\u001b[0;34m\u001b[0m\u001b[0m\n\u001b[1;32m    394\u001b[0m           \u001b[0mnumpy_logs\u001b[0m \u001b[0;34m=\u001b[0m \u001b[0mtf_utils\u001b[0m\u001b[0;34m.\u001b[0m\u001b[0mto_numpy_or_python_type\u001b[0m\u001b[0;34m(\u001b[0m\u001b[0mlogs\u001b[0m\u001b[0;34m)\u001b[0m\u001b[0;34m\u001b[0m\u001b[0;34m\u001b[0m\u001b[0m\n\u001b[0;32m--> 395\u001b[0;31m         \u001b[0mcallback\u001b[0m\u001b[0;34m.\u001b[0m\u001b[0mon_epoch_begin\u001b[0m\u001b[0;34m(\u001b[0m\u001b[0mepoch\u001b[0m\u001b[0;34m,\u001b[0m \u001b[0mnumpy_logs\u001b[0m\u001b[0;34m)\u001b[0m\u001b[0;34m\u001b[0m\u001b[0;34m\u001b[0m\u001b[0m\n\u001b[0m\u001b[1;32m    396\u001b[0m \u001b[0;34m\u001b[0m\u001b[0m\n\u001b[1;32m    397\u001b[0m   \u001b[0;32mdef\u001b[0m \u001b[0mon_epoch_end\u001b[0m\u001b[0;34m(\u001b[0m\u001b[0mself\u001b[0m\u001b[0;34m,\u001b[0m \u001b[0mepoch\u001b[0m\u001b[0;34m,\u001b[0m \u001b[0mlogs\u001b[0m\u001b[0;34m=\u001b[0m\u001b[0;32mNone\u001b[0m\u001b[0;34m)\u001b[0m\u001b[0;34m:\u001b[0m\u001b[0;34m\u001b[0m\u001b[0;34m\u001b[0m\u001b[0m\n",
            "\u001b[0;32m/usr/local/lib/python3.6/dist-packages/tensorflow/python/keras/callbacks.py\u001b[0m in \u001b[0;36mon_epoch_begin\u001b[0;34m(self, epoch, logs)\u001b[0m\n\u001b[1;32m   1806\u001b[0m       \u001b[0mlr\u001b[0m \u001b[0;34m=\u001b[0m \u001b[0mself\u001b[0m\u001b[0;34m.\u001b[0m\u001b[0mschedule\u001b[0m\u001b[0;34m(\u001b[0m\u001b[0mepoch\u001b[0m\u001b[0;34m)\u001b[0m\u001b[0;34m\u001b[0m\u001b[0;34m\u001b[0m\u001b[0m\n\u001b[1;32m   1807\u001b[0m     \u001b[0;32mif\u001b[0m \u001b[0;32mnot\u001b[0m \u001b[0misinstance\u001b[0m\u001b[0;34m(\u001b[0m\u001b[0mlr\u001b[0m\u001b[0;34m,\u001b[0m \u001b[0;34m(\u001b[0m\u001b[0mops\u001b[0m\u001b[0;34m.\u001b[0m\u001b[0mTensor\u001b[0m\u001b[0;34m,\u001b[0m \u001b[0mfloat\u001b[0m\u001b[0;34m,\u001b[0m \u001b[0mnp\u001b[0m\u001b[0;34m.\u001b[0m\u001b[0mfloat32\u001b[0m\u001b[0;34m,\u001b[0m \u001b[0mnp\u001b[0m\u001b[0;34m.\u001b[0m\u001b[0mfloat64\u001b[0m\u001b[0;34m)\u001b[0m\u001b[0;34m)\u001b[0m\u001b[0;34m:\u001b[0m\u001b[0;34m\u001b[0m\u001b[0;34m\u001b[0m\u001b[0m\n\u001b[0;32m-> 1808\u001b[0;31m       raise ValueError('The output of the \"schedule\" function '\n\u001b[0m\u001b[1;32m   1809\u001b[0m                        'should be float.')\n\u001b[1;32m   1810\u001b[0m     \u001b[0;32mif\u001b[0m \u001b[0misinstance\u001b[0m\u001b[0;34m(\u001b[0m\u001b[0mlr\u001b[0m\u001b[0;34m,\u001b[0m \u001b[0mops\u001b[0m\u001b[0;34m.\u001b[0m\u001b[0mTensor\u001b[0m\u001b[0;34m)\u001b[0m \u001b[0;32mand\u001b[0m \u001b[0;32mnot\u001b[0m \u001b[0mlr\u001b[0m\u001b[0;34m.\u001b[0m\u001b[0mdtype\u001b[0m\u001b[0;34m.\u001b[0m\u001b[0mis_floating\u001b[0m\u001b[0;34m:\u001b[0m\u001b[0;34m\u001b[0m\u001b[0;34m\u001b[0m\u001b[0m\n",
            "\u001b[0;31mValueError\u001b[0m: The output of the \"schedule\" function should be float."
          ]
        }
      ]
    }
  ]
}